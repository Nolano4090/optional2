{
 "cells": [
  {
   "cell_type": "code",
   "execution_count": 1,
   "metadata": {},
   "outputs": [
    {
     "name": "stderr",
     "output_type": "stream",
     "text": [
      "F:\\anaconda\\lib\\site-packages\\tensorflow\\python\\framework\\dtypes.py:526: FutureWarning: Passing (type, 1) or '1type' as a synonym of type is deprecated; in a future version of numpy, it will be understood as (type, (1,)) / '(1,)type'.\n",
      "  _np_qint8 = np.dtype([(\"qint8\", np.int8, 1)])\n",
      "F:\\anaconda\\lib\\site-packages\\tensorflow\\python\\framework\\dtypes.py:527: FutureWarning: Passing (type, 1) or '1type' as a synonym of type is deprecated; in a future version of numpy, it will be understood as (type, (1,)) / '(1,)type'.\n",
      "  _np_quint8 = np.dtype([(\"quint8\", np.uint8, 1)])\n",
      "F:\\anaconda\\lib\\site-packages\\tensorflow\\python\\framework\\dtypes.py:528: FutureWarning: Passing (type, 1) or '1type' as a synonym of type is deprecated; in a future version of numpy, it will be understood as (type, (1,)) / '(1,)type'.\n",
      "  _np_qint16 = np.dtype([(\"qint16\", np.int16, 1)])\n",
      "F:\\anaconda\\lib\\site-packages\\tensorflow\\python\\framework\\dtypes.py:529: FutureWarning: Passing (type, 1) or '1type' as a synonym of type is deprecated; in a future version of numpy, it will be understood as (type, (1,)) / '(1,)type'.\n",
      "  _np_quint16 = np.dtype([(\"quint16\", np.uint16, 1)])\n",
      "F:\\anaconda\\lib\\site-packages\\tensorflow\\python\\framework\\dtypes.py:530: FutureWarning: Passing (type, 1) or '1type' as a synonym of type is deprecated; in a future version of numpy, it will be understood as (type, (1,)) / '(1,)type'.\n",
      "  _np_qint32 = np.dtype([(\"qint32\", np.int32, 1)])\n",
      "F:\\anaconda\\lib\\site-packages\\tensorflow\\python\\framework\\dtypes.py:535: FutureWarning: Passing (type, 1) or '1type' as a synonym of type is deprecated; in a future version of numpy, it will be understood as (type, (1,)) / '(1,)type'.\n",
      "  np_resource = np.dtype([(\"resource\", np.ubyte, 1)])\n"
     ]
    }
   ],
   "source": [
    "import gensim\n",
    "import os\n",
    "import torch\n",
    "\n",
    "import numpy as np\n",
    "import pandas as pd\n",
    "import torch.nn as nn\n",
    "import torch.nn.functional as F\n",
    "import torch.utils.data as D\n",
    "\n",
    "from torch.utils.data import DataLoader, Dataset\n",
    "from tqdm import tqdm\n",
    "from transformers import BertForMaskedLM,BertModel,BertConfig,BertTokenizer"
   ]
  },
  {
   "cell_type": "code",
   "execution_count": 7,
   "metadata": {},
   "outputs": [],
   "source": [
    "# 设置gpu\n",
    "device = 'cuda' if torch.cuda.is_available() else 'cpu'\n",
    "\n",
    "# 设置label\n",
    "label = {0:\"韵文\",1:\"散文\"}\n",
    "\n",
    "# 导入数据\n",
    "path = '../dataset/data.csv'\n",
    "df = pd.read_csv(path)\n",
    "\n",
    "# 散文数据:1048576条，抽取30000条\n",
    "# 韵文数据：抽取30000条:唐10000条，明10000条，当代10000条\n",
    "\n",
    "# 构建dataset与dataloader\n",
    "X = df['sentence']\n",
    "Y = df['label']\n",
    "\n",
    "\n",
    "# 数据集划分\n",
    "df = df.sample(frac=1.0).reset_index(drop=True)\n",
    "df = df.iloc[:,1:]\n",
    "\n",
    "train_df = df.iloc[0:54000:,]\n",
    "val_df = df.iloc[54001:57000,]\n",
    "test_df = df.iloc[57001:,]\n",
    "\n",
    "train_df.to_csv('../pretrain/Bert-Chinese-Text-Classification-Pytorch-master/TEXTCL/data/train.csv')\n",
    "val_df.to_csv('../pretrain/Bert-Chinese-Text-Classification-Pytorch-master/TEXTCL/data/dev.csv')\n",
    "test_df.to_csv('../pretrain/Bert-Chinese-Text-Classification-Pytorch-master/TEXTCL/data/test.csv')"
   ]
  },
  {
   "cell_type": "code",
   "execution_count": 13,
   "metadata": {},
   "outputs": [],
   "source": [
    "# 数据格式化\n",
    "def convertCommaToSpace(filename):\n",
    "    input_df = pd.read_csv(filename, sep=\",\")\n",
    "    input_df.to_csv(filename, sep='\\t', index=False)\n",
    "\n",
    "convertCommaToSpace('../pretrain/Bert-Chinese-Text-Classification-Pytorch-master/TEXTCL/data/train.csv')\n",
    "convertCommaToSpace('../pretrain/Bert-Chinese-Text-Classification-Pytorch-master/TEXTCL/data/dev.csv')\n",
    "convertCommaToSpace('../pretrain/Bert-Chinese-Text-Classification-Pytorch-master/TEXTCL/data/test.csv')  "
   ]
  },
  {
   "cell_type": "code",
   "execution_count": null,
   "metadata": {},
   "outputs": [],
   "source": []
  }
 ],
 "metadata": {
  "kernelspec": {
   "display_name": "Python 3",
   "language": "python",
   "name": "python3"
  },
  "language_info": {
   "codemirror_mode": {
    "name": "ipython",
    "version": 3
   },
   "file_extension": ".py",
   "mimetype": "text/x-python",
   "name": "python",
   "nbconvert_exporter": "python",
   "pygments_lexer": "ipython3",
   "version": "3.7.1"
  }
 },
 "nbformat": 4,
 "nbformat_minor": 2
}
